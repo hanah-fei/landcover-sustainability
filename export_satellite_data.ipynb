{
 "cells": [
  {
   "cell_type": "markdown",
   "metadata": {},
   "source": [
    "## Use Google Earth Engine to export Sentinel2 data for classification"
   ]
  },
  {
   "cell_type": "code",
   "execution_count": null,
   "metadata": {},
   "outputs": [],
   "source": [
    "import ee\n",
    "import tensorflow as tf\n",
    "from pprint import pprint\n",
    "import folium\n",
    "import time\n",
    "import json\n",
    "\n",
    "# Initialize Earth Engine and prep tiles for visualization\n",
    "ee.Initialize()\n",
    "EE_TILES = 'https://earthengine.googleapis.com/map/{mapid}/{{z}}/{{x}}/{{y}}?token={token}'\n",
    "\n",
    "tf.enable_eager_execution()"
   ]
  },
  {
   "cell_type": "code",
   "execution_count": null,
   "metadata": {},
   "outputs": [],
   "source": [
    "# CHANGE TO YOUR GOOGLE CLOUD STORAGE BUCKET\n",
    "OUTPUT_BUCKET = 'your_bucket'\n",
    "BANDS = ['TCI_R', 'TCI_G', 'TCI_B'] # We want the true color bands\n",
    "IMAGE_FILE_PREFIX = 'sentinel_2_rgb'\n",
    "EXPORT_REGION = ee.Geometry.Rectangle([-122.7, 37.3, -121.8, 38.00]) # Area to get data"
   ]
  },
  {
   "cell_type": "code",
   "execution_count": null,
   "metadata": {},
   "outputs": [],
   "source": [
    "sent2 = ee.ImageCollection('COPERNICUS/S2_SR').filterBounds(EXPORT_REGION)"
   ]
  },
  {
   "cell_type": "code",
   "execution_count": null,
   "metadata": {},
   "outputs": [],
   "source": [
    "# Function to mask clouds using the Sentinel-2 QA band.\n",
    "def maskS2clouds(image):\n",
    "  qa = image.select('QA60')\n",
    "  cloudBitMask = 1 << 10;\n",
    "  cirrusBitMask = 1 << 11;\n",
    "  mask = qa.bitwiseAnd(cloudBitMask).eq(0).And(\n",
    "    qa.bitwiseAnd(cirrusBitMask).eq(0))\n",
    "  return image.updateMask(mask).divide(10000).select(BANDS)"
   ]
  },
  {
   "cell_type": "code",
   "execution_count": null,
   "metadata": {},
   "outputs": [],
   "source": [
    "# The image input data is a 2018 cloud-masked median composite.\n",
    "image = sent2.filterDate('2018-01-01', '2019-01-31').map(maskS2clouds).median()"
   ]
  },
  {
   "cell_type": "code",
   "execution_count": null,
   "metadata": {},
   "outputs": [],
   "source": [
    "# Use folium to visualize the imagery.\n",
    "mapid = image.getMapId({'bands': BANDS})\n",
    "map = folium.Map(location=[38., -122.5])\n",
    "folium.TileLayer(\n",
    "    tiles=EE_TILES.format(**mapid),\n",
    "    attr='Google Earth Engine',\n",
    "    overlay=True,\n",
    "    name='median composite',\n",
    "  ).add_to(map)\n",
    "map.add_child(folium.LayerControl())\n",
    "map"
   ]
  },
  {
   "cell_type": "code",
   "execution_count": null,
   "metadata": {},
   "outputs": [],
   "source": [
    "### RUN EXPORT JOB TO GOOGLE CLOUD STORAGE BUCKET\n",
    "## EXPORT AS A TF RECORD\n",
    "\n",
    "# Specify patch and file dimensions.\n",
    "imageExportFormatOptions = {\n",
    "  'patchDimensions': [64, 64], # our model takes in 64x64 images\n",
    "  'maxFileSize': 104857600,\n",
    "  'compressed': True\n",
    "}\n",
    "\n",
    "# Setup the export task.\n",
    "imageTask = ee.batch.Export.image.toCloudStorage(\n",
    "  image=image,\n",
    "  description='Image Export',\n",
    "  fileNamePrefix=IMAGE_FILE_PREFIX,\n",
    "  bucket=OUTPUT_BUCKET,\n",
    "  scale=10,\n",
    "  fileFormat='TFRecord',\n",
    "  region=EXPORT_REGION.toGeoJSON()['coordinates'],\n",
    "  formatOptions=imageExportFormatOptions)\n",
    "    \n",
    "imageTask.start()"
   ]
  },
  {
   "cell_type": "code",
   "execution_count": null,
   "metadata": {},
   "outputs": [],
   "source": [
    "# MONITOR EXPORT JOB\n",
    "while imageTask.active():\n",
    "  print('Polling for task (id: {}).'.format(imageTask.id))\n",
    "  time.sleep(30)\n",
    "print('Done with image export.')"
   ]
  }
 ],
 "metadata": {
  "kernelspec": {
   "display_name": "Python 3",
   "language": "python",
   "name": "python3"
  },
  "language_info": {
   "codemirror_mode": {
    "name": "ipython",
    "version": 3
   },
   "file_extension": ".py",
   "mimetype": "text/x-python",
   "name": "python",
   "nbconvert_exporter": "python",
   "pygments_lexer": "ipython3",
   "version": "3.6.4"
  }
 },
 "nbformat": 4,
 "nbformat_minor": 2
}
